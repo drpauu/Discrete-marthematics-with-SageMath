{
 "cells": [
  {
   "cell_type": "markdown",
   "metadata": {},
   "source": [
    "## Pràctica sessió 5 de MATD\n",
    "\n",
    "L'objectiu d'aquesta sessió de pràctiques és la realització de diferents exercicis amb SAGE per tal que et familiaritzis amb la terminologia bàsica de la Combinatòria enumerativa."
   ]
  },
  {
   "cell_type": "markdown",
   "metadata": {},
   "source": [
    "### Exercici 1\n",
    "\n",
    "Per indicar un conjunt de cardinal $n$ escriurem $n$-conjunt i $k$-paraula per indicar una paraula de longitud $k$. \n",
    "\n",
    "Tenint en compte aquest criteri, fes els càlculs següents amb SAGE, indicant quin tipus de eina de combinatòria has fet servir.\n",
    "\n"
   ]
  },
  {
   "cell_type": "markdown",
   "metadata": {},
   "source": [
    "**1.1** Calcula el nombre de 8-paraules que es poden construir amb un 8-conjunt de lletres diferents.  I representa totes les 4-paraules que es poden construir amb les lletres del conjunt  $\\{R,O,M,A\\}$."
   ]
  },
  {
   "cell_type": "code",
   "execution_count": null,
   "metadata": {},
   "outputs": [],
   "source": []
  },
  {
   "cell_type": "markdown",
   "metadata": {},
   "source": [
    "**1.2** Calcula el nombre de 7-paraules que es poden construir amb lletres diferents d'un 12-conjunt."
   ]
  },
  {
   "cell_type": "code",
   "execution_count": null,
   "metadata": {},
   "outputs": [],
   "source": []
  },
  {
   "cell_type": "markdown",
   "metadata": {},
   "source": [
    "**1.3** Calcula el nombre de 7-paraules que es poden construir amb lletres no necessàriament diferents d'un 12-conjunt."
   ]
  },
  {
   "cell_type": "code",
   "execution_count": null,
   "metadata": {},
   "outputs": [],
   "source": []
  },
  {
   "cell_type": "markdown",
   "metadata": {},
   "source": [
    "**1.4** Calcula el nombre de 7-paraules que es poden formar usant només dues lletres diferents triades d'un 12-conjunt."
   ]
  },
  {
   "cell_type": "code",
   "execution_count": null,
   "metadata": {},
   "outputs": [],
   "source": []
  },
  {
   "cell_type": "markdown",
   "metadata": {},
   "source": [
    "**1.5** Calcula el nombre de 12-paraules binàries que es poden construir amb 4 zeros i 8 uns."
   ]
  },
  {
   "cell_type": "code",
   "execution_count": null,
   "metadata": {},
   "outputs": [],
   "source": []
  },
  {
   "cell_type": "markdown",
   "metadata": {},
   "source": [
    "**1.6** Calcula el nombre de paraules que es poden formar permutant les lletres de la paraula COMBINATORIA."
   ]
  },
  {
   "cell_type": "code",
   "execution_count": null,
   "metadata": {},
   "outputs": [],
   "source": []
  },
  {
   "cell_type": "markdown",
   "metadata": {},
   "source": [
    "### Exercici 2\n",
    "\n",
    "**2.1** Defineix una funció que, donat un enter positiu $n$, mostri tots els subconjunts del conjunt $\\{1,2,...,n\\}$, ordenats segons el seu cardinal (primer el conjunt buit, després els subconjunts amb un sol element, després els subcojunts de cardinal 2...). Prova la funció per a $n=5$."
   ]
  },
  {
   "cell_type": "code",
   "execution_count": null,
   "metadata": {},
   "outputs": [],
   "source": []
  },
  {
   "cell_type": "markdown",
   "metadata": {},
   "source": [
    "**2.2** Defineix una funció que, donat un enter positiu $n$, calculi el nombre de subconjunts de cardinal parell del conjunt \n",
    "$\\{1,\\dots,n\\}$.  Prova la funció per a $n=5$ i per a $n=200$."
   ]
  },
  {
   "cell_type": "code",
   "execution_count": null,
   "metadata": {},
   "outputs": [],
   "source": []
  },
  {
   "cell_type": "markdown",
   "metadata": {},
   "source": [
    "**2.3** Defineix una funció que, donat un enter positiu $n$, construeixi les $n$ files inicials del triangle de Pascal. Prova la funció per a $n=4$ i $n=14$. Calcula a mà la suma dels nombres de cada fila fins que reconeguis els resultats que obtens."
   ]
  },
  {
   "cell_type": "code",
   "execution_count": null,
   "metadata": {},
   "outputs": [],
   "source": []
  },
  {
   "cell_type": "markdown",
   "metadata": {},
   "source": [
    "**2.4** Calcula el valor de l'expressió següent, analíticament i amb SAGE. \n",
    "$$\n",
    "\\sum_{k=0}^{24}  {{25}\\choose{k}} 2^{k+1}\n",
    "$$\n"
   ]
  },
  {
   "cell_type": "code",
   "execution_count": null,
   "metadata": {},
   "outputs": [],
   "source": []
  },
  {
   "cell_type": "markdown",
   "metadata": {},
   "source": [
    "**2.5** Determina el nombre de solucions enteres de l'equació\n",
    "\n",
    "$$x_1+x_2+x_3+x_4=500$$\n",
    "\n",
    "que satisfan $x_1\\geq 100$, $x_2\\geq 80$, $x_3\\geq 70$ i $x_4 \\geq 50$."
   ]
  },
  {
   "cell_type": "code",
   "execution_count": null,
   "metadata": {},
   "outputs": [],
   "source": []
  }
 ],
 "metadata": {
  "kernelspec": {
   "display_name": "SageMath 9.0",
   "language": "sage",
   "name": "sagemath"
  },
  "language_info": {
   "codemirror_mode": {
    "name": "ipython",
    "version": 3
   },
   "file_extension": ".py",
   "mimetype": "text/x-python",
   "name": "python",
   "nbconvert_exporter": "python",
   "pygments_lexer": "ipython3",
   "version": "3.7.3"
  }
 },
 "nbformat": 4,
 "nbformat_minor": 2
}
