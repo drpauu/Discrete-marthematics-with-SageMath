{
 "cells": [
  {
   "cell_type": "markdown",
   "metadata": {},
   "source": [
    "## Pràctica 3 Grafs. Propietats"
   ]
  },
  {
   "cell_type": "markdown",
   "metadata": {},
   "source": [
    "En aquesta sessió de pràctiques presentarem les funcions de **SageMath** que ens permetran treballar amb les principals propietats de Grafs introduïdes en els primers temes de MATD."
   ]
  },
  {
   "cell_type": "markdown",
   "metadata": {},
   "source": [
    "1. **Complementari d'un graf**\n",
    "\n",
    "El complementari d'un graf $G=(V(G),E(G))$ de ordre $n$, és un graf $CG$ que té per vèrtexs, els mateixos vèrtexs que $G$ i per arestes $E(CG)=E(K_n)-E(G)$.\n",
    "\n",
    "Troba en el guió de la pràctica 2, la instrucció de **SageMath** que permetrà obtenir el graf complementari del graf $G$. \n",
    "\n",
    "Utilitza-la per a obtenir el complementari del graf estrella **graphs.StarGraph(5)** i representa'ls gràficament.\n"
   ]
  },
  {
   "cell_type": "code",
   "execution_count": null,
   "metadata": {},
   "outputs": [],
   "source": []
  },
  {
   "cell_type": "code",
   "execution_count": null,
   "metadata": {},
   "outputs": [],
   "source": [
    "#Representem-los gràficament\n",
    "# G1 és el graf estrella i CG1 el seu complementari\n",
    "k = []\n",
    "k.append(plot(G1))\n",
    "k.append(plot(CG1))\n",
    "G=graphics_array(k)\n",
    "G.show()"
   ]
  },
  {
   "cell_type": "markdown",
   "metadata": {},
   "source": [
    "Troba el graf complementari del graf de Petersen i representa'ls gràficament."
   ]
  },
  {
   "cell_type": "code",
   "execution_count": null,
   "metadata": {},
   "outputs": [],
   "source": []
  },
  {
   "cell_type": "markdown",
   "metadata": {},
   "source": [
    "2. **Grafs isomorfs**\n",
    "\n",
    "Dos grafs $G_1=(V(G_1),E(G_1)$ i $G_2=(V(G_2),E(G_2))$ són isomorfs si existeix una aplicació entre els seus conjunts de vèrtexs que conserva les adjacències.  \n",
    "\n",
    "Comprova si el graf cicle d'ordre 5 i el graf estrella d'ordre 5 són isomorfs."
   ]
  },
  {
   "cell_type": "code",
   "execution_count": null,
   "metadata": {},
   "outputs": [],
   "source": []
  },
  {
   "cell_type": "markdown",
   "metadata": {},
   "source": [
    "3. **Graf autocomplementari**\n",
    "\n",
    "Direm que un graf $G$ és autocomplementari, si és isomorf al seu graf complementari.\n",
    "\n",
    "La instrucció **G.is_self_complementary()** ens permet comprovar-ho. Cerca un graf que sigui autocomplementari i comprova que efectivament ho és utilitzant la instrucció anterior."
   ]
  },
  {
   "cell_type": "code",
   "execution_count": null,
   "metadata": {},
   "outputs": [],
   "source": []
  },
  {
   "cell_type": "markdown",
   "metadata": {},
   "source": [
    "I també trobant el seu complementari i comprovant que els dos grafs són isomorfs."
   ]
  },
  {
   "cell_type": "code",
   "execution_count": null,
   "metadata": {},
   "outputs": [],
   "source": []
  },
  {
   "cell_type": "markdown",
   "metadata": {},
   "source": [
    "4. **Graf bipartit**\n",
    "\n",
    "Un graf $G=(V(G),E(G))$ es diu que és bipartit si el conjunt de vèrtexs del graf es pot descompondre com una unió disjunta de conjunts\n",
    "\n",
    "$$V(G)=V(G_1)\\cup V(G_2) \\,\\, \\mbox{i} \\,\\, V(G_1)\\cap V(G_2)=\\emptyset,$$\n",
    "\n",
    "de manera que no hi ha arestes en el graf, que tinguin els seus vèrtexs extrems en el mateix conjunt de la bipartició.\n",
    "\n",
    "La funció **G.is_bipartite()** permet comprovar si el graf $G$ és bipartit. Vegem com funciona amb un exemple."
   ]
  },
  {
   "cell_type": "code",
   "execution_count": null,
   "metadata": {},
   "outputs": [],
   "source": [
    "G=graphs.GridGraph([3,4])\n",
    "G.is_bipartite()"
   ]
  },
  {
   "cell_type": "code",
   "execution_count": null,
   "metadata": {},
   "outputs": [],
   "source": [
    "plot(G)"
   ]
  },
  {
   "cell_type": "markdown",
   "metadata": {},
   "source": [
    "Cerca un exemple de graf que sigui bipartit i un altre exemple de graf que no hi sigui."
   ]
  },
  {
   "cell_type": "code",
   "execution_count": null,
   "metadata": {},
   "outputs": [],
   "source": []
  },
  {
   "cell_type": "markdown",
   "metadata": {},
   "source": [
    "5. **Graf regular**\n",
    "\n",
    "Un graf $G$ es diu que és regular, si tots els seus vèrtexs tenen el mateix grau.\n",
    "\n",
    "Per a comprovar-ho, podrem utilitzar la funció **G.is_regular()** de **SageMath**. \n",
    "\n",
    "Cerca un graf que sigui regular i comprova que efectivament ho és utilitzant la instrucció anterior."
   ]
  },
  {
   "cell_type": "code",
   "execution_count": null,
   "metadata": {},
   "outputs": [],
   "source": []
  },
  {
   "cell_type": "markdown",
   "metadata": {},
   "source": [
    "A continuació calcula la seqüència de graus dels seus vèrtexs."
   ]
  },
  {
   "cell_type": "code",
   "execution_count": null,
   "metadata": {},
   "outputs": [],
   "source": []
  },
  {
   "cell_type": "markdown",
   "metadata": {},
   "source": [
    "Sigui $H$ un graf simple definit pel conjunt de vèrtexs\n",
    "\n",
    "$$V=\\{1,2,\\ldots,20\\}$$\n",
    "\n",
    "i conjunt d'arestes\n",
    "\n",
    "$$E=\\{(i,j):~\\text{mcd}(i,j)>1\\}.$$\n",
    "\n",
    "Defineix el graf $H$ i representa'l"
   ]
  },
  {
   "cell_type": "code",
   "execution_count": null,
   "metadata": {},
   "outputs": [],
   "source": []
  },
  {
   "cell_type": "markdown",
   "metadata": {},
   "source": [
    "I calcula la seqüència de graus dels seus vèrtexs."
   ]
  },
  {
   "cell_type": "code",
   "execution_count": null,
   "metadata": {},
   "outputs": [],
   "source": []
  },
  {
   "cell_type": "markdown",
   "metadata": {},
   "source": [
    "6. **Subgraf**\n",
    "\n",
    "L'objectiu d'aquesta secció de la pràctica és treballar amb el concepte de subgraf. Comencem recordant la seva definició.\n",
    "\n",
    "Donat un graf $G=(V(G),E(G))$, un **subgraf** $H=(V(H),E(H))$ és un graf que compleix \n",
    "\n",
    "$$V(H)\\subset V(G) \\quad \\mbox{i} \\quad E(H)\\subset E(G)$$\n",
    "\n",
    "Representem tots els subgrafs (no isomorfs) del graf complet $K_4$, utilitzant la instrucció de **SageMath**. \n",
    "\n",
    "$$graphs(vertices, property=lambda\\,\\, x: True, augment='edges', size=None)$$"
   ]
  },
  {
   "cell_type": "code",
   "execution_count": null,
   "metadata": {},
   "outputs": [],
   "source": [
    "L = graphs(4,augment='vertices')\n",
    "graphs_list.show_graphs(L)"
   ]
  },
  {
   "cell_type": "markdown",
   "metadata": {},
   "source": [
    "Genera tots els subgrafs no isomorfs del graf complet $K_5$"
   ]
  },
  {
   "cell_type": "code",
   "execution_count": null,
   "metadata": {},
   "outputs": [],
   "source": []
  },
  {
   "cell_type": "markdown",
   "metadata": {},
   "source": [
    "A continuació representarem tots els subgrafs no isomorfs de grandària 4 del graf complet $K_5$"
   ]
  },
  {
   "cell_type": "code",
   "execution_count": null,
   "metadata": {},
   "outputs": [],
   "source": [
    "L = graphs(5, size=4)\n",
    "graphs_list.show_graphs(L)"
   ]
  },
  {
   "cell_type": "markdown",
   "metadata": {},
   "source": [
    "Genera tots els subgrafs no isomorfs del graf complet $K_5$ que tinguin mida 6"
   ]
  },
  {
   "cell_type": "code",
   "execution_count": null,
   "metadata": {},
   "outputs": [],
   "source": []
  },
  {
   "cell_type": "markdown",
   "metadata": {},
   "source": [
    "Ara veurem quants dels subgrafs no isomorfs del graf complet $K_4$ són bipartits"
   ]
  },
  {
   "cell_type": "code",
   "execution_count": null,
   "metadata": {},
   "outputs": [],
   "source": [
    "#property defineix la propietat de ser bipartit\n",
    "property = lambda G: G.is_bipartite() \n",
    "# Incloem en una llista només els que tinguin la propietat\n",
    "L=list(graphs(4, property)) \n",
    "#comptem els elements de la llista\n",
    "len(L) "
   ]
  },
  {
   "cell_type": "markdown",
   "metadata": {},
   "source": [
    "I els representem gràficament"
   ]
  },
  {
   "cell_type": "code",
   "execution_count": null,
   "metadata": {},
   "outputs": [],
   "source": [
    "graphs_list.show_graphs(L)"
   ]
  },
  {
   "cell_type": "markdown",
   "metadata": {},
   "source": [
    "Ara, determina quants subgrafs no isomorfs del graf complet $K_5$ són bipartits i després representa'ls"
   ]
  },
  {
   "cell_type": "code",
   "execution_count": null,
   "metadata": {},
   "outputs": [],
   "source": []
  },
  {
   "cell_type": "markdown",
   "metadata": {},
   "source": [
    "Els conceptes amb els que treballaràs a partir d'aquest input estan inclosos en el guió de la pràctica 3 de MATD."
   ]
  },
  {
   "cell_type": "markdown",
   "metadata": {},
   "source": [
    "7. **Acoloriments d’un graf**\n",
    "\n",
    "Calcula el número cromàtic i el polinomi cromàtic del graf de Petersen."
   ]
  },
  {
   "cell_type": "code",
   "execution_count": null,
   "metadata": {},
   "outputs": [],
   "source": []
  },
  {
   "cell_type": "markdown",
   "metadata": {},
   "source": [
    "Calcula el nombre d’acoloriments diferents que permet el graf de Petersen."
   ]
  },
  {
   "cell_type": "code",
   "execution_count": null,
   "metadata": {},
   "outputs": [],
   "source": []
  },
  {
   "cell_type": "markdown",
   "metadata": {},
   "source": [
    "Llegeix en la pàgina 6 del guió de la pràctica, el procés complet per a trobar un quadrat llatí (QL) d'ordre n i a continuació mira d'identificar els diferents passos en la següent rutina (pàgina 7, guió de la pràctica)"
   ]
  },
  {
   "cell_type": "code",
   "execution_count": 1,
   "metadata": {},
   "outputs": [],
   "source": [
    "from sage.graphs.graph_coloring import vertex_coloring"
   ]
  },
  {
   "cell_type": "code",
   "execution_count": 2,
   "metadata": {},
   "outputs": [],
   "source": [
    "def QL(nn):\n",
    "    # generem el grid graf\n",
    "    G=graphs.GridGraph([nn,nn])\n",
    "    # afegim les branques necessaries\n",
    "    for i in range(nn):\n",
    "        for j in range(nn):\n",
    "            G.add_edges([((i,j),(i,k)) for k in range(j+1,nn)])\n",
    "            G.add_edges([((i,j),(k,j)) for k in range(i+1,nn)])\n",
    "    # generem l’acoloriment de G\n",
    "    # (retorna una k-particio del vertexs)\n",
    "    vc=vertex_coloring(G,value_only=False)\n",
    "    # ql es la llista que contindra el QL\n",
    "    # es una llista de llistes (les files)\n",
    "    ql =[]\n",
    "    # els seguents llacos fan els\n",
    "    #passos 3b i 3c\n",
    "    for i in range(nn):\n",
    "        laux =[]\n",
    "        for j in range(nn):\n",
    "            for k in range(nn):\n",
    "                if ((i,j) in vc[k]):\n",
    "                    laux.append(k)\n",
    "                    break\n",
    "        ql.append(laux)\n",
    "    return G.plot(vertex_colors=vc,vertex_labels=False),ql"
   ]
  },
  {
   "cell_type": "markdown",
   "metadata": {},
   "source": [
    "A continuació prova la rutina per trobar un QL d’ordre 7 i mostra-ho en format de taula."
   ]
  },
  {
   "cell_type": "code",
   "execution_count": null,
   "metadata": {},
   "outputs": [],
   "source": []
  },
  {
   "cell_type": "code",
   "execution_count": null,
   "metadata": {},
   "outputs": [],
   "source": []
  },
  {
   "cell_type": "markdown",
   "metadata": {},
   "source": [
    "Llegeix en la pàgina 9 del guió de la pràctica, el procés complet per a trobar un sudoku d'ordre n i a continuació mira d'identificar els diferents passos en la següent rutina (pàgina 9 del guió de la pràctica)"
   ]
  },
  {
   "cell_type": "code",
   "execution_count": null,
   "metadata": {},
   "outputs": [],
   "source": [
    "def SK():\n",
    "    nn=9\n",
    "    # generem el grid graf \n",
    "    G=graphs.GridGraph([nn,nn]) \n",
    "    # afegim les branques necessaries \n",
    "    for i in range(nn):\n",
    "        for j in range(nn): \n",
    "            G.add_edges([((i,j),(i,k)) for k in range(j+1,nn)]) \n",
    "            G.add_edges([((i,j),(k,j)) for k in range(i+1,nn)]) \n",
    "    # afegim les condicions addicionals\n",
    "    for i in [0 ,3 ,6]: \n",
    "        for j in [0 ,3 ,6]: \n",
    "            G.add_edges([((i,j),(i+1,j+1)),((i,j),(i+1,j+2)),((i,j),(i+2,j+1)),((i,j),(i+2,j+2))])\n",
    "            G.add_edges([((i,j+1),(i+1,j)),((i,j+1),(i+1,j+2)),((i,j+1),(i+2,j)),((i,j+1),(i+2,j+2))])\n",
    "            G.add_edges([((i,j+2),(i+1,j)),((i,j+2),(i+1,j+1)),((i,j+2),(i+2,j)),((i,j+2),(i+2,j+1))])\n",
    "            G.add_edges([((i+1,j),(i+2,j+1)),((i+1,j),(i+2,j+2))]) \n",
    "            G.add_edges([((i+1,j+1),(i+2,j)),((i+1,j+1),(i+2,j+2))])\n",
    "            G.add_edges([((i+1,j+2),(i+2,j)),((i+1,j+2),(i+2,j+1))])\n",
    "    # generem l’acoloriment de G \n",
    "    # (retorna una k-particio del vertexs) \n",
    "    vc=vertex_coloring(G,value_only=False) \n",
    "    # ql es la llista que contindra el SK \n",
    "    # es una llista de llistes (les files) \n",
    "    sk =[]\n",
    "    # els seguents llacos fan els\n",
    "    # passos 3b i 3c que tambe funcionen # pel SKs\n",
    "    for i in range(nn):\n",
    "        laux =[]\n",
    "        for j in range(nn):\n",
    "            for k in range(nn):\n",
    "                if ((i,j) in vc[k]):\n",
    "                    laux.append(k+1)\n",
    "                    break\n",
    "        sk.append(laux)\n",
    "    return sk "
   ]
  },
  {
   "cell_type": "markdown",
   "metadata": {},
   "source": [
    "I a continuació genera el sudoku."
   ]
  },
  {
   "cell_type": "code",
   "execution_count": null,
   "metadata": {},
   "outputs": [],
   "source": []
  }
 ],
 "metadata": {
  "kernelspec": {
   "display_name": "SageMath 9.0",
   "language": "sage",
   "name": "sagemath"
  },
  "language_info": {
   "codemirror_mode": {
    "name": "ipython",
    "version": 3
   },
   "file_extension": ".py",
   "mimetype": "text/x-python",
   "name": "python",
   "nbconvert_exporter": "python",
   "pygments_lexer": "ipython3",
   "version": "3.7.3"
  }
 },
 "nbformat": 4,
 "nbformat_minor": 2
}
