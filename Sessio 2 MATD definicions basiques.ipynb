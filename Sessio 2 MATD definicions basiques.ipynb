{
 "cells": [
  {
   "cell_type": "markdown",
   "metadata": {},
   "source": [
    "## Pràctica Sessió 2 de MATD"
   ]
  },
  {
   "cell_type": "markdown",
   "metadata": {},
   "source": [
    "L'objectiu d'aquesta sessió de pràctiques és familiaritzar-se amb la terminologia bàsica de Teoria de Grafs."
   ]
  },
  {
   "cell_type": "markdown",
   "metadata": {},
   "source": [
    "### Grafs"
   ]
  },
  {
   "cell_type": "markdown",
   "metadata": {},
   "source": [
    "A continuació treballarem amb diferents maneres de declarar grafs en **SageMath**. Veurem com podem definir un mateix graf, utilitzant diferents arguments en el procediment **Graph()**"
   ]
  },
  {
   "cell_type": "markdown",
   "metadata": {},
   "source": [
    "**Argument: Conjunt de vèrtexs i arestes**"
   ]
  },
  {
   "cell_type": "code",
   "execution_count": 1,
   "metadata": {},
   "outputs": [],
   "source": [
    "V={1,2,3,4} \n",
    "E=[{1,2},{1,3},{2,3},{2,4},{3,4}]\n",
    "G1=Graph([V,E],format='vertices_and_edges') "
   ]
  },
  {
   "cell_type": "markdown",
   "metadata": {},
   "source": [
    "Representa gràficament el graf G1"
   ]
  },
  {
   "cell_type": "code",
   "execution_count": null,
   "metadata": {},
   "outputs": [],
   "source": []
  },
  {
   "cell_type": "markdown",
   "metadata": {},
   "source": [
    "**Argument: Associar a vèrtexs la seva llista d'adjacències**\n",
    "\n"
   ]
  },
  {
   "cell_type": "code",
   "execution_count": 3,
   "metadata": {},
   "outputs": [],
   "source": [
    "G2=Graph({1:[2,3],2:[3,4],3:[4]}) "
   ]
  },
  {
   "cell_type": "markdown",
   "metadata": {},
   "source": [
    "Representa el graf G2"
   ]
  },
  {
   "cell_type": "code",
   "execution_count": null,
   "metadata": {},
   "outputs": [],
   "source": []
  },
  {
   "cell_type": "markdown",
   "metadata": {},
   "source": [
    "**Argument: Llista d'arestes del graf**"
   ]
  },
  {
   "cell_type": "code",
   "execution_count": 1,
   "metadata": {},
   "outputs": [],
   "source": [
    "G3=Graph([{1,2},{1,3},{2,3},{2,4},{3,4}]) \n"
   ]
  },
  {
   "cell_type": "markdown",
   "metadata": {},
   "source": [
    "Representa el graf G3"
   ]
  },
  {
   "cell_type": "code",
   "execution_count": null,
   "metadata": {},
   "outputs": [],
   "source": []
  },
  {
   "cell_type": "markdown",
   "metadata": {},
   "source": [
    "Troba el conjunt de vèrtexs i arestes del graf de Petersen."
   ]
  },
  {
   "cell_type": "code",
   "execution_count": null,
   "metadata": {},
   "outputs": [],
   "source": [
    "# conjunt de vèrtexs"
   ]
  },
  {
   "cell_type": "code",
   "execution_count": null,
   "metadata": {},
   "outputs": [],
   "source": [
    "# conjunt d'arestes"
   ]
  },
  {
   "cell_type": "markdown",
   "metadata": {},
   "source": [
    "Troba el conjunt de vèrtexs i arestes del graf de Möbius–Kantor."
   ]
  },
  {
   "cell_type": "code",
   "execution_count": null,
   "metadata": {},
   "outputs": [],
   "source": []
  },
  {
   "cell_type": "code",
   "execution_count": null,
   "metadata": {},
   "outputs": [],
   "source": []
  },
  {
   "cell_type": "markdown",
   "metadata": {},
   "source": [
    "**Afegir vèrtexs i arestes**"
   ]
  },
  {
   "cell_type": "markdown",
   "metadata": {},
   "source": [
    "Crearem un nou graf, amb la instrucció **Graph()**. Es tracta d'un graf nul, sense vèrtexs, ni arestes."
   ]
  },
  {
   "cell_type": "code",
   "execution_count": 13,
   "metadata": {},
   "outputs": [],
   "source": [
    "G=Graph()"
   ]
  },
  {
   "cell_type": "markdown",
   "metadata": {},
   "source": [
    "Podrem afegir vèrtexs al graf, d'un en un (**g.add_vertex**), o en conjunt (**g.add_vertices**)"
   ]
  },
  {
   "cell_type": "code",
   "execution_count": 16,
   "metadata": {},
   "outputs": [],
   "source": [
    "G.add_vertex(0)"
   ]
  },
  {
   "cell_type": "code",
   "execution_count": null,
   "metadata": {},
   "outputs": [],
   "source": [
    "G.add_vertices([1,2,3,4])"
   ]
  },
  {
   "cell_type": "markdown",
   "metadata": {},
   "source": [
    "Representa el graf **G**"
   ]
  },
  {
   "cell_type": "code",
   "execution_count": null,
   "metadata": {},
   "outputs": [],
   "source": []
  },
  {
   "cell_type": "markdown",
   "metadata": {},
   "source": [
    "I també podem afegir arestes al graf, d'una en una (**G.add_edge()**), o en conjunts (**G.add_edges()**)"
   ]
  },
  {
   "cell_type": "code",
   "execution_count": 18,
   "metadata": {},
   "outputs": [],
   "source": [
    "G.add_edge((0,1));\n",
    "G.add_edges([(0,2),(0,3),(0,4)])"
   ]
  },
  {
   "cell_type": "markdown",
   "metadata": {},
   "source": [
    "Representa el graf **G** que hem creat en els passos anteriors."
   ]
  },
  {
   "cell_type": "code",
   "execution_count": null,
   "metadata": {},
   "outputs": [],
   "source": []
  },
  {
   "cell_type": "markdown",
   "metadata": {},
   "source": [
    "També podrem eliminar algun dels elements que hem afegit amb la instrucció **G.delete_()**"
   ]
  },
  {
   "cell_type": "code",
   "execution_count": 20,
   "metadata": {},
   "outputs": [],
   "source": [
    "G.delete_edge((0,4));\n",
    "G.delete_vertex(4)"
   ]
  },
  {
   "cell_type": "markdown",
   "metadata": {},
   "source": [
    "Comprova amb un dibuix com han estat eliminats els elements"
   ]
  },
  {
   "cell_type": "code",
   "execution_count": null,
   "metadata": {},
   "outputs": [],
   "source": []
  },
  {
   "cell_type": "markdown",
   "metadata": {},
   "source": [
    "### Definiciones básicas"
   ]
  },
  {
   "cell_type": "markdown",
   "metadata": {},
   "source": [
    "Utilitzant instruccions de Sagemath troba l'ordre (nombre de vèrtexs) i mida (nombre d'arestes) del graf de Hoffman-Singleton."
   ]
  },
  {
   "cell_type": "code",
   "execution_count": null,
   "metadata": {},
   "outputs": [],
   "source": [
    "# ordre"
   ]
  },
  {
   "cell_type": "code",
   "execution_count": null,
   "metadata": {},
   "outputs": [],
   "source": [
    "# mida"
   ]
  },
  {
   "cell_type": "markdown",
   "metadata": {},
   "source": [
    "Troba els vèrtexs adjacents al vèrtex \"0\" en el graf de Hofman-Singleton."
   ]
  },
  {
   "cell_type": "code",
   "execution_count": null,
   "metadata": {},
   "outputs": [],
   "source": []
  },
  {
   "cell_type": "markdown",
   "metadata": {},
   "source": [
    "Per a calcular el grau d'un vèrtex \"v\" d'un graf G en **SageMath** executarem la instrucció **G.degre(v)**"
   ]
  },
  {
   "cell_type": "markdown",
   "metadata": {},
   "source": [
    "Troba el grau del vèrtex \"0\" del graf Hofman-Singleton."
   ]
  },
  {
   "cell_type": "code",
   "execution_count": null,
   "metadata": {},
   "outputs": [],
   "source": []
  },
  {
   "cell_type": "markdown",
   "metadata": {},
   "source": [
    "Troba la seqüència de graus del graf Moebius-Kantor utilitzant una instrucció de **SageMath** i contesta: El graf de Moebius-Kantor és regular?"
   ]
  },
  {
   "cell_type": "code",
   "execution_count": null,
   "metadata": {},
   "outputs": [],
   "source": []
  },
  {
   "cell_type": "markdown",
   "metadata": {},
   "source": [
    "### Matrius d'adjacència i incidència"
   ]
  },
  {
   "cell_type": "markdown",
   "metadata": {},
   "source": [
    "Troba la matriu d'adjacència del graf de Petersen i comprova com és simètrica respecte a la seva diagonal principal. A més, el número d'uns de cada fila (columna) coincideix amb el grau del corresponent vèrtex del graf.\n"
   ]
  },
  {
   "cell_type": "code",
   "execution_count": null,
   "metadata": {},
   "outputs": [],
   "source": [
    "# matriu d'adjacència\n"
   ]
  },
  {
   "cell_type": "markdown",
   "metadata": {},
   "source": [
    "També podem utilitzar la matriu d'adjacència d'un graf com a argument del procediment **Graph()** per a crear un graf en **SageMath**. Vegem un exemple"
   ]
  },
  {
   "cell_type": "code",
   "execution_count": null,
   "metadata": {},
   "outputs": [],
   "source": [
    "M=matrix([[0,1,1,0],[1,0,1,1],[1,1,0,1],[0,1,1,0]])\n",
    "g=Graph(M)\n",
    "g.show()"
   ]
  },
  {
   "cell_type": "markdown",
   "metadata": {},
   "source": [
    "Una altra manera de representar grafs és mitjançant les matrius d'incidència. Mentre la matriu d'adjacència involucra les adjacències de vèrtexs, la matriu d'incidència involucra la incidència de vèrtexs i arestes. Troba la matriu  d'incidència del graf de Petersen."
   ]
  },
  {
   "cell_type": "code",
   "execution_count": null,
   "metadata": {},
   "outputs": [],
   "source": [
    "# matriu d'incidència\n"
   ]
  },
  {
   "cell_type": "markdown",
   "metadata": {},
   "source": [
    "### Representació gràfica"
   ]
  },
  {
   "cell_type": "markdown",
   "metadata": {},
   "source": [
    "Per a representar gràficament un graf podem utilitzar la intrucción **show()**, tal com hem fet al principi de la pràctica, però tenim altres alternatives."
   ]
  },
  {
   "cell_type": "code",
   "execution_count": null,
   "metadata": {},
   "outputs": [],
   "source": [
    "g.show()"
   ]
  },
  {
   "cell_type": "markdown",
   "metadata": {},
   "source": [
    "Hi ha ocasions en què és millor representar el graf d'una manera determinada, per exemple, posant cada conjunt de vèrtexs dels grafs bipartits en una recta, o distribuint els vèrtexs de forma circular. \n",
    "\n",
    "Els diferents algorismes de dissenys (layout) que es poden aplicar són \"circular\", \"planar\" o \"spring\", entre altres. Prova'ls per a representar el graf hipercub $Q_3$ (**graphs.CubeGraph(3)**)."
   ]
  },
  {
   "cell_type": "code",
   "execution_count": null,
   "metadata": {},
   "outputs": [],
   "source": [
    "graphs.CubeGraph(3).show(layout=\"circular\")"
   ]
  },
  {
   "cell_type": "code",
   "execution_count": null,
   "metadata": {},
   "outputs": [],
   "source": [
    "# planar"
   ]
  },
  {
   "cell_type": "code",
   "execution_count": null,
   "metadata": {},
   "outputs": [],
   "source": [
    "# spring"
   ]
  },
  {
   "cell_type": "markdown",
   "metadata": {},
   "source": [
    "I també és possible indicar la posició dels vèrtexs utilitzant l'argument **pos**, per a indicar les coordenades de la posició exacta dels vèrtexs"
   ]
  },
  {
   "cell_type": "code",
   "execution_count": 26,
   "metadata": {},
   "outputs": [],
   "source": [
    "position={0:(1,0),1:(-1,0),2:(0,-1),3:(-1,-1)}"
   ]
  },
  {
   "cell_type": "code",
   "execution_count": null,
   "metadata": {},
   "outputs": [],
   "source": [
    "g.show(pos=position)"
   ]
  },
  {
   "cell_type": "markdown",
   "metadata": {},
   "source": [
    "### Destacar elements del graf"
   ]
  },
  {
   "cell_type": "markdown",
   "metadata": {},
   "source": [
    "A continuació veurem en un exemple, com podem destacar en la representació gràfica d'un graf els seus vèrtexs "
   ]
  },
  {
   "cell_type": "code",
   "execution_count": 11,
   "metadata": {},
   "outputs": [
    {
     "data": {
      "image/png": "[encoded data removed]",
      "text/plain": [
       "Graphics object consisting of 10 graphics primitives"
      ]
     },
     "metadata": {},
     "output_type": "display_data"
    }
   ],
   "source": [
    "colors={\"red\":[1,4],\"blue\":[2,3]}\n",
    "g=G1.graphplot(vertex_colors=colors)\n",
    "g.show()\n"
   ]
  },
  {
   "cell_type": "markdown",
   "metadata": {},
   "source": [
    "O les seves arestes"
   ]
  },
  {
   "cell_type": "code",
   "execution_count": 12,
   "metadata": {},
   "outputs": [
    {
     "data": {
      "image/png": "[encoded data removed]",
      "text/plain": [
       "Graphics object consisting of 10 graphics primitives"
      ]
     },
     "metadata": {},
     "output_type": "display_data"
    }
   ],
   "source": [
    "Ecolors={\"red\":[(1,2),(2,3),(3,4)],\"black\":[(1,3),(2,4)]}\n",
    "g2=G1.graphplot(edge_colors=Ecolors)\n",
    "g2.show()"
   ]
  },
  {
   "cell_type": "markdown",
   "metadata": {},
   "source": [
    "Acoloreix els vèrtexs del graf $Q_3$ amb dos colors diferents, de manera que no hi hagi una aresta que tingui els seus dos extrems acolorits amb el mateix color."
   ]
  },
  {
   "cell_type": "code",
   "execution_count": null,
   "metadata": {},
   "outputs": [],
   "source": []
  },
  {
   "cell_type": "markdown",
   "metadata": {},
   "source": [
    "Crea un graf simple en el qual els vèrtexs siguin els números de l'1 al 10 i dos vèrtexs seran adjacents si un és múltiple de l'altre."
   ]
  },
  {
   "cell_type": "code",
   "execution_count": null,
   "metadata": {},
   "outputs": [],
   "source": []
  }
 ],
 "metadata": {
  "kernelspec": {
   "display_name": "SageMath 9.0",
   "language": "sage",
   "name": "sagemath"
  },
  "language_info": {
   "codemirror_mode": {
    "name": "ipython",
    "version": 3
   },
   "file_extension": ".py",
   "mimetype": "text/x-python",
   "name": "python",
   "nbconvert_exporter": "python",
   "pygments_lexer": "ipython3",
   "version": "3.7.3"
  }
 },
 "nbformat": 4,
 "nbformat_minor": 2
}
